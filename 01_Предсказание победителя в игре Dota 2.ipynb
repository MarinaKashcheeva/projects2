{
  "cells": [
    {
      "cell_type": "markdown",
      "metadata": {
        "id": "qtCnHNYFV_IO"
      },
      "source": [
        "# Предсказание победителя в игре Dota 2\n",
        "\n",
        "Ссылка на Kaggle соревнование: [Dota 2: Win Probability Prediction](https://kaggle.com/join/coursera_ml_dota2_contest)"
      ]
    },
    {
      "cell_type": "markdown",
      "source": [
        "## Предметная область: Игра Dota 2\n",
        "\n",
        "[Dota 2](https://ru.wikipedia.org/wiki/Dota_2) — многопользовательская компьютерная игра жанра [MOBA](https://ru.wikipedia.org/wiki/MOBA). Игроки играют между собой матчи. В каждом матче участвует две команды, 5 человек в каждой. Одна команда играет за светлую сторону (The Radiant), другая — за тёмную (The Dire). Цель каждой команды — уничтожить главное здание базы противника (трон).\n",
        "\n",
        "Существуют [разные режимы игры](http://dota2.gamepedia.com/Game_modes/ru), мы будем рассматривать режим [Captain's Mode](http://dota2.gamepedia.com/Game_modes/ru#Captain.27s_Mode), в формате которого происходит большая часть киберспортивных мероприятий по Dota 2.\n",
        "\n",
        "### Как проходит матч\n",
        "\n",
        "#### 1. Игроки выбирают героев\n",
        "\n",
        "Всего в игре чуть более 100 различных героев (персонажей). В начале игры, команды в определенном порядке выбирают героев себе и запрещают выбирать определенных героев противнику (баны). Каждый игрок будет управлять одним героем, в рамках одного матча не может быть несколько одинаковых героев.  Герои различаются между собой своими характеристиками и способностями. От комбинации выбранных героев во многом зависит успех команды.\n",
        "\n",
        "![](http://imgur.com/XFr4HYE.jpg)\n",
        "\n",
        "#### 2. Основная часть\n",
        "\n",
        "Игроки могут получать золото и опыт за убийство чужих героев или прочих юнитов. Накопленный опыт влияет на уровень героя, который в свою очередь позволяет улучшать способности. За накопленное золото игроки покупают предметы, которые улучшают характеристики героев или дают им новые способности.\n",
        "\n",
        "После смерти герой отправляется в \"таверну\" и возрождается только по прошествии некоторого времени, таким образом команда на некоторое время теряет игрока, однако игрок может досрочно выкупить героя из таверны за определенную сумму золота.\n",
        "\n",
        "В течение игры команды развивают своих героев, обороняют свою часть поля и нападают на вражескую.\n",
        "\n",
        "![](http://imgur.com/5b0SlQb.jpg)\n",
        "\n",
        "#### 3. Конец игры\n",
        "\n",
        "Игра заканчивается, когда одна из команд разрушет определенное число \"башен\" противника и уничтожает трон.\n",
        "\n",
        "![](http://imgur.com/Du79Kzf.jpg)"
      ],
      "metadata": {
        "id": "coeGvWdGXN-r"
      }
    },
    {
      "cell_type": "markdown",
      "source": [
        "## Задача: предсказание победы по данным о первых 5 минутах игры\n",
        "\n",
        "По первым 5 минутам игры предсказать, какая из команд победит: Radiant или Dire?"
      ],
      "metadata": {
        "id": "LbcXNULXXUEI"
      }
    },
    {
      "cell_type": "markdown",
      "source": [
        "## Набор данных\n",
        "Признаки, представленные в таблице `dota_features.csv`, по мнению экспертов в предметной области являются наиболее важными для решения задачи предсказания победы команды."
      ],
      "metadata": {
        "id": "975QhEtEXnCc"
      }
    },
    {
      "cell_type": "markdown",
      "source": [
        "#### Описание признаков в таблице\n",
        "\n",
        "- `match_id`: идентификатор матча в наборе данных\n",
        "- `start_time`: время начала матча (unixtime)\n",
        "- `lobby_type`: тип комнаты, в которой собираются игроки (расшифровка в `dictionaries/lobbies.csv`)\n",
        "- Наборы признаков для каждого игрока (игроки команды Radiant — префикс `rN`, Dire — `dN`):\n",
        "    - `r1_hero`: герой игрока (расшифровка в dictionaries/heroes.csv)\n",
        "    - `r1_level`: максимальный достигнутый уровень героя (за первые 5 игровых минут)\n",
        "    - `r1_xp`: максимальный полученный опыт\n",
        "    - `r1_gold`: достигнутая ценность героя\n",
        "    - `r1_lh`: число убитых юнитов\n",
        "    - `r1_kills`: число убитых игроков\n",
        "    - `r1_deaths`: число смертей героя\n",
        "    - `r1_items`: число купленных предметов\n",
        "- Признаки события \"первая кровь\" (first blood). Если событие \"первая кровь\" не успело произойти за первые 5 минут, то признаки принимают пропущенное значение\n",
        "    - `first_blood_time`: игровое время первой крови\n",
        "    - `first_blood_team`: команда, совершившая первую кровь (0 — Radiant, 1 — Dire)\n",
        "    - `first_blood_player1`: игрок, причастный к событию\n",
        "    - `first_blood_player2`: второй игрок, причастный к событию\n",
        "- Признаки для каждой команды (префиксы `radiant_` и `dire_`)\n",
        "    - `radiant_bottle_time`: время первого приобретения командой предмета \"bottle\"\n",
        "    - `radiant_courier_time`: время приобретения предмета \"courier\" \n",
        "    - `radiant_flying_courier_time`: время приобретения предмета \"flying_courier\" \n",
        "    - `radiant_tpscroll_count`: число предметов \"tpscroll\" за первые 5 минут\n",
        "    - `radiant_boots_count`: число предметов \"boots\"\n",
        "    - `radiant_ward_observer_count`: число предметов \"ward_observer\"\n",
        "    - `radiant_ward_sentry_count`: число предметов \"ward_sentry\"\n",
        "    - `radiant_first_ward_time`: время установки командой первого \"наблюдателя\", т.е. предмета, который позволяет видеть часть игрового поля\n",
        "- Итог матча (данные поля отсутствуют в тестовой выборке, поскольку содержат информацию, выходящую за пределы первых 5 минут матча)\n",
        "    - `duration`: длительность\n",
        "    - `radiant_win`: 1, если победила команда Radiant, 0 — иначе\n",
        "    - Состояние башен и барраков к концу матча (см. описание полей набора данных)\n",
        "        - `tower_status_radiant`\n",
        "        - `tower_status_dire`\n",
        "        - `barracks_status_radiant`\n",
        "        - `barracks_status_dire`"
      ],
      "metadata": {
        "id": "rtULKtkvX5Qx"
      }
    },
    {
      "cell_type": "markdown",
      "source": [
        "**Целевой признак** содержится в признаке radiant_win: 1, если победила команда Radiant, 0 — если победила команда Dire. "
      ],
      "metadata": {
        "id": "iS9oJNeFY2lq"
      }
    },
    {
      "cell_type": "markdown",
      "source": [
        "## Метрика качества\n",
        "\n",
        "В качестве метрики качества мы будем использовать площадь под ROC-кривой (AUC-ROC)."
      ],
      "metadata": {
        "id": "J0uI_qdkYKKW"
      }
    },
    {
      "cell_type": "markdown",
      "source": [
        "## Предобработка данных"
      ],
      "metadata": {
        "id": "seBnhKCNZpy7"
      }
    },
    {
      "cell_type": "markdown",
      "metadata": {
        "id": "I_po1KrmV_IV"
      },
      "source": [
        "Импортируем библиотеки и датасет:"
      ]
    },
    {
      "cell_type": "code",
      "execution_count": null,
      "metadata": {
        "id": "P4F24EHJV_IW"
      },
      "outputs": [],
      "source": [
        "import pandas as pd\n",
        "import numpy as np"
      ]
    },
    {
      "cell_type": "code",
      "execution_count": null,
      "metadata": {
        "scrolled": true,
        "id": "d3TtAtUpV_IY",
        "outputId": "53eff68d-86b6-41ff-a41c-142e0e999716"
      },
      "outputs": [
        {
          "data": {
            "text/html": [
              "<div>\n",
              "<style scoped>\n",
              "    .dataframe tbody tr th:only-of-type {\n",
              "        vertical-align: middle;\n",
              "    }\n",
              "\n",
              "    .dataframe tbody tr th {\n",
              "        vertical-align: top;\n",
              "    }\n",
              "\n",
              "    .dataframe thead th {\n",
              "        text-align: right;\n",
              "    }\n",
              "</style>\n",
              "<table border=\"1\" class=\"dataframe\">\n",
              "  <thead>\n",
              "    <tr style=\"text-align: right;\">\n",
              "      <th></th>\n",
              "      <th>start_time</th>\n",
              "      <th>lobby_type</th>\n",
              "      <th>r1_hero</th>\n",
              "      <th>r1_level</th>\n",
              "      <th>r1_xp</th>\n",
              "      <th>r1_gold</th>\n",
              "      <th>r1_lh</th>\n",
              "      <th>r1_kills</th>\n",
              "      <th>r1_deaths</th>\n",
              "      <th>r1_items</th>\n",
              "      <th>...</th>\n",
              "      <th>dire_boots_count</th>\n",
              "      <th>dire_ward_observer_count</th>\n",
              "      <th>dire_ward_sentry_count</th>\n",
              "      <th>dire_first_ward_time</th>\n",
              "      <th>duration</th>\n",
              "      <th>radiant_win</th>\n",
              "      <th>tower_status_radiant</th>\n",
              "      <th>tower_status_dire</th>\n",
              "      <th>barracks_status_radiant</th>\n",
              "      <th>barracks_status_dire</th>\n",
              "    </tr>\n",
              "  </thead>\n",
              "  <tbody>\n",
              "    <tr>\n",
              "      <th>0</th>\n",
              "      <td>1430198770</td>\n",
              "      <td>7</td>\n",
              "      <td>11</td>\n",
              "      <td>5</td>\n",
              "      <td>2098</td>\n",
              "      <td>1489</td>\n",
              "      <td>20</td>\n",
              "      <td>0</td>\n",
              "      <td>0</td>\n",
              "      <td>7</td>\n",
              "      <td>...</td>\n",
              "      <td>4</td>\n",
              "      <td>2</td>\n",
              "      <td>2</td>\n",
              "      <td>-52.0</td>\n",
              "      <td>2874</td>\n",
              "      <td>1</td>\n",
              "      <td>1796</td>\n",
              "      <td>0</td>\n",
              "      <td>51</td>\n",
              "      <td>0</td>\n",
              "    </tr>\n",
              "    <tr>\n",
              "      <th>1</th>\n",
              "      <td>1430220345</td>\n",
              "      <td>0</td>\n",
              "      <td>42</td>\n",
              "      <td>4</td>\n",
              "      <td>1188</td>\n",
              "      <td>1033</td>\n",
              "      <td>9</td>\n",
              "      <td>0</td>\n",
              "      <td>1</td>\n",
              "      <td>12</td>\n",
              "      <td>...</td>\n",
              "      <td>4</td>\n",
              "      <td>3</td>\n",
              "      <td>1</td>\n",
              "      <td>-5.0</td>\n",
              "      <td>2463</td>\n",
              "      <td>1</td>\n",
              "      <td>1974</td>\n",
              "      <td>0</td>\n",
              "      <td>63</td>\n",
              "      <td>1</td>\n",
              "    </tr>\n",
              "    <tr>\n",
              "      <th>2</th>\n",
              "      <td>1430227081</td>\n",
              "      <td>7</td>\n",
              "      <td>33</td>\n",
              "      <td>4</td>\n",
              "      <td>1319</td>\n",
              "      <td>1270</td>\n",
              "      <td>22</td>\n",
              "      <td>0</td>\n",
              "      <td>0</td>\n",
              "      <td>12</td>\n",
              "      <td>...</td>\n",
              "      <td>4</td>\n",
              "      <td>3</td>\n",
              "      <td>1</td>\n",
              "      <td>13.0</td>\n",
              "      <td>2130</td>\n",
              "      <td>0</td>\n",
              "      <td>0</td>\n",
              "      <td>1830</td>\n",
              "      <td>0</td>\n",
              "      <td>63</td>\n",
              "    </tr>\n",
              "    <tr>\n",
              "      <th>3</th>\n",
              "      <td>1430263531</td>\n",
              "      <td>1</td>\n",
              "      <td>29</td>\n",
              "      <td>4</td>\n",
              "      <td>1779</td>\n",
              "      <td>1056</td>\n",
              "      <td>14</td>\n",
              "      <td>0</td>\n",
              "      <td>0</td>\n",
              "      <td>5</td>\n",
              "      <td>...</td>\n",
              "      <td>4</td>\n",
              "      <td>2</td>\n",
              "      <td>0</td>\n",
              "      <td>27.0</td>\n",
              "      <td>1459</td>\n",
              "      <td>0</td>\n",
              "      <td>1920</td>\n",
              "      <td>2047</td>\n",
              "      <td>50</td>\n",
              "      <td>63</td>\n",
              "    </tr>\n",
              "    <tr>\n",
              "      <th>4</th>\n",
              "      <td>1430282290</td>\n",
              "      <td>7</td>\n",
              "      <td>13</td>\n",
              "      <td>4</td>\n",
              "      <td>1431</td>\n",
              "      <td>1090</td>\n",
              "      <td>8</td>\n",
              "      <td>1</td>\n",
              "      <td>0</td>\n",
              "      <td>8</td>\n",
              "      <td>...</td>\n",
              "      <td>3</td>\n",
              "      <td>3</td>\n",
              "      <td>0</td>\n",
              "      <td>-16.0</td>\n",
              "      <td>2449</td>\n",
              "      <td>0</td>\n",
              "      <td>4</td>\n",
              "      <td>1974</td>\n",
              "      <td>3</td>\n",
              "      <td>63</td>\n",
              "    </tr>\n",
              "    <tr>\n",
              "      <th>...</th>\n",
              "      <td>...</td>\n",
              "      <td>...</td>\n",
              "      <td>...</td>\n",
              "      <td>...</td>\n",
              "      <td>...</td>\n",
              "      <td>...</td>\n",
              "      <td>...</td>\n",
              "      <td>...</td>\n",
              "      <td>...</td>\n",
              "      <td>...</td>\n",
              "      <td>...</td>\n",
              "      <td>...</td>\n",
              "      <td>...</td>\n",
              "      <td>...</td>\n",
              "      <td>...</td>\n",
              "      <td>...</td>\n",
              "      <td>...</td>\n",
              "      <td>...</td>\n",
              "      <td>...</td>\n",
              "      <td>...</td>\n",
              "      <td>...</td>\n",
              "    </tr>\n",
              "    <tr>\n",
              "      <th>97225</th>\n",
              "      <td>1450265551</td>\n",
              "      <td>1</td>\n",
              "      <td>47</td>\n",
              "      <td>4</td>\n",
              "      <td>1706</td>\n",
              "      <td>1198</td>\n",
              "      <td>17</td>\n",
              "      <td>0</td>\n",
              "      <td>1</td>\n",
              "      <td>8</td>\n",
              "      <td>...</td>\n",
              "      <td>4</td>\n",
              "      <td>3</td>\n",
              "      <td>0</td>\n",
              "      <td>-24.0</td>\n",
              "      <td>2032</td>\n",
              "      <td>0</td>\n",
              "      <td>1792</td>\n",
              "      <td>1975</td>\n",
              "      <td>48</td>\n",
              "      <td>63</td>\n",
              "    </tr>\n",
              "    <tr>\n",
              "      <th>97226</th>\n",
              "      <td>1450277704</td>\n",
              "      <td>0</td>\n",
              "      <td>43</td>\n",
              "      <td>4</td>\n",
              "      <td>1793</td>\n",
              "      <td>1416</td>\n",
              "      <td>17</td>\n",
              "      <td>0</td>\n",
              "      <td>1</td>\n",
              "      <td>5</td>\n",
              "      <td>...</td>\n",
              "      <td>3</td>\n",
              "      <td>2</td>\n",
              "      <td>0</td>\n",
              "      <td>-17.0</td>\n",
              "      <td>1734</td>\n",
              "      <td>1</td>\n",
              "      <td>2038</td>\n",
              "      <td>6</td>\n",
              "      <td>63</td>\n",
              "      <td>3</td>\n",
              "    </tr>\n",
              "    <tr>\n",
              "      <th>97227</th>\n",
              "      <td>1450291848</td>\n",
              "      <td>1</td>\n",
              "      <td>98</td>\n",
              "      <td>4</td>\n",
              "      <td>1399</td>\n",
              "      <td>540</td>\n",
              "      <td>1</td>\n",
              "      <td>0</td>\n",
              "      <td>0</td>\n",
              "      <td>5</td>\n",
              "      <td>...</td>\n",
              "      <td>1</td>\n",
              "      <td>3</td>\n",
              "      <td>1</td>\n",
              "      <td>-15.0</td>\n",
              "      <td>2906</td>\n",
              "      <td>0</td>\n",
              "      <td>1796</td>\n",
              "      <td>1846</td>\n",
              "      <td>51</td>\n",
              "      <td>63</td>\n",
              "    </tr>\n",
              "    <tr>\n",
              "      <th>97228</th>\n",
              "      <td>1450292986</td>\n",
              "      <td>1</td>\n",
              "      <td>100</td>\n",
              "      <td>3</td>\n",
              "      <td>1135</td>\n",
              "      <td>766</td>\n",
              "      <td>6</td>\n",
              "      <td>0</td>\n",
              "      <td>2</td>\n",
              "      <td>6</td>\n",
              "      <td>...</td>\n",
              "      <td>3</td>\n",
              "      <td>3</td>\n",
              "      <td>1</td>\n",
              "      <td>-42.0</td>\n",
              "      <td>951</td>\n",
              "      <td>0</td>\n",
              "      <td>2039</td>\n",
              "      <td>2047</td>\n",
              "      <td>63</td>\n",
              "      <td>63</td>\n",
              "    </tr>\n",
              "    <tr>\n",
              "      <th>97229</th>\n",
              "      <td>1450313370</td>\n",
              "      <td>7</td>\n",
              "      <td>50</td>\n",
              "      <td>3</td>\n",
              "      <td>1053</td>\n",
              "      <td>799</td>\n",
              "      <td>7</td>\n",
              "      <td>0</td>\n",
              "      <td>0</td>\n",
              "      <td>7</td>\n",
              "      <td>...</td>\n",
              "      <td>3</td>\n",
              "      <td>2</td>\n",
              "      <td>0</td>\n",
              "      <td>-39.0</td>\n",
              "      <td>2086</td>\n",
              "      <td>1</td>\n",
              "      <td>1982</td>\n",
              "      <td>0</td>\n",
              "      <td>63</td>\n",
              "      <td>0</td>\n",
              "    </tr>\n",
              "  </tbody>\n",
              "</table>\n",
              "<p>97230 rows × 108 columns</p>\n",
              "</div>"
            ],
            "text/plain": [
              "       start_time  lobby_type  r1_hero  r1_level  r1_xp  r1_gold  r1_lh  \\\n",
              "0      1430198770           7       11         5   2098     1489     20   \n",
              "1      1430220345           0       42         4   1188     1033      9   \n",
              "2      1430227081           7       33         4   1319     1270     22   \n",
              "3      1430263531           1       29         4   1779     1056     14   \n",
              "4      1430282290           7       13         4   1431     1090      8   \n",
              "...           ...         ...      ...       ...    ...      ...    ...   \n",
              "97225  1450265551           1       47         4   1706     1198     17   \n",
              "97226  1450277704           0       43         4   1793     1416     17   \n",
              "97227  1450291848           1       98         4   1399      540      1   \n",
              "97228  1450292986           1      100         3   1135      766      6   \n",
              "97229  1450313370           7       50         3   1053      799      7   \n",
              "\n",
              "       r1_kills  r1_deaths  r1_items  ...  dire_boots_count  \\\n",
              "0             0          0         7  ...                 4   \n",
              "1             0          1        12  ...                 4   \n",
              "2             0          0        12  ...                 4   \n",
              "3             0          0         5  ...                 4   \n",
              "4             1          0         8  ...                 3   \n",
              "...         ...        ...       ...  ...               ...   \n",
              "97225         0          1         8  ...                 4   \n",
              "97226         0          1         5  ...                 3   \n",
              "97227         0          0         5  ...                 1   \n",
              "97228         0          2         6  ...                 3   \n",
              "97229         0          0         7  ...                 3   \n",
              "\n",
              "       dire_ward_observer_count  dire_ward_sentry_count  dire_first_ward_time  \\\n",
              "0                             2                       2                 -52.0   \n",
              "1                             3                       1                  -5.0   \n",
              "2                             3                       1                  13.0   \n",
              "3                             2                       0                  27.0   \n",
              "4                             3                       0                 -16.0   \n",
              "...                         ...                     ...                   ...   \n",
              "97225                         3                       0                 -24.0   \n",
              "97226                         2                       0                 -17.0   \n",
              "97227                         3                       1                 -15.0   \n",
              "97228                         3                       1                 -42.0   \n",
              "97229                         2                       0                 -39.0   \n",
              "\n",
              "       duration  radiant_win  tower_status_radiant  tower_status_dire  \\\n",
              "0          2874            1                  1796                  0   \n",
              "1          2463            1                  1974                  0   \n",
              "2          2130            0                     0               1830   \n",
              "3          1459            0                  1920               2047   \n",
              "4          2449            0                     4               1974   \n",
              "...         ...          ...                   ...                ...   \n",
              "97225      2032            0                  1792               1975   \n",
              "97226      1734            1                  2038                  6   \n",
              "97227      2906            0                  1796               1846   \n",
              "97228       951            0                  2039               2047   \n",
              "97229      2086            1                  1982                  0   \n",
              "\n",
              "       barracks_status_radiant  barracks_status_dire  \n",
              "0                           51                     0  \n",
              "1                           63                     1  \n",
              "2                            0                    63  \n",
              "3                           50                    63  \n",
              "4                            3                    63  \n",
              "...                        ...                   ...  \n",
              "97225                       48                    63  \n",
              "97226                       63                     3  \n",
              "97227                       51                    63  \n",
              "97228                       63                    63  \n",
              "97229                       63                     0  \n",
              "\n",
              "[97230 rows x 108 columns]"
            ]
          },
          "execution_count": 2,
          "metadata": {},
          "output_type": "execute_result"
        }
      ],
      "source": [
        "df = pd.read_csv('dota_features.csv', index_col='match_id').reset_index(drop = True)\n",
        "df"
      ]
    },
    {
      "cell_type": "code",
      "execution_count": null,
      "metadata": {
        "id": "bVcd43vhV_Ia",
        "outputId": "bd49329a-c184-4c7c-e3d5-e48599cebadd"
      },
      "outputs": [
        {
          "name": "stdout",
          "output_type": "stream",
          "text": [
            "<class 'pandas.core.frame.DataFrame'>\n",
            "RangeIndex: 97230 entries, 0 to 97229\n",
            "Columns: 108 entries, start_time to barracks_status_dire\n",
            "dtypes: float64(12), int64(96)\n",
            "memory usage: 80.1 MB\n"
          ]
        }
      ],
      "source": [
        "df.info()"
      ]
    },
    {
      "cell_type": "markdown",
      "metadata": {
        "id": "gHfi4weZV_Ia"
      },
      "source": [
        "Все данные в числовом формате."
      ]
    },
    {
      "cell_type": "markdown",
      "source": [
        "Сохраним целевой признак в переменную y:"
      ],
      "metadata": {
        "id": "t1bpyQAVZb79"
      }
    },
    {
      "cell_type": "code",
      "execution_count": null,
      "metadata": {
        "id": "0_gVo2KvV_Ig",
        "outputId": "c30ae3c8-673f-4f70-9e0e-2416192b9ef2"
      },
      "outputs": [
        {
          "data": {
            "text/plain": [
              "(97230,)"
            ]
          },
          "execution_count": 4,
          "metadata": {},
          "output_type": "execute_result"
        }
      ],
      "source": [
        "y = df.radiant_win\n",
        "y.shape"
      ]
    },
    {
      "cell_type": "markdown",
      "metadata": {
        "id": "fNErGQ7gV_Ih"
      },
      "source": [
        "В переменную features сохраним признаки, кроме целевого признака и еще нескольких столбцов, которые содержат информацию, связанную с итогами матча, а также времени начала матча и типа комнаты (эти признаки, очевидно, не несут в себе информации, полезной для обучения нашей модели):\n",
        "- lobby_type\n",
        "- start_time\n",
        "- duration\n",
        "- tower_status_radiant\n",
        "- tower_status_dire\n",
        "- barracks_status_radiant\n",
        "- barracks_status_dire"
      ]
    },
    {
      "cell_type": "code",
      "execution_count": null,
      "metadata": {
        "scrolled": true,
        "id": "xuZ49pSBV_Ii",
        "outputId": "c8c4ec49-5dda-4afe-8921-779256744c35"
      },
      "outputs": [
        {
          "data": {
            "text/html": [
              "<div>\n",
              "<style scoped>\n",
              "    .dataframe tbody tr th:only-of-type {\n",
              "        vertical-align: middle;\n",
              "    }\n",
              "\n",
              "    .dataframe tbody tr th {\n",
              "        vertical-align: top;\n",
              "    }\n",
              "\n",
              "    .dataframe thead th {\n",
              "        text-align: right;\n",
              "    }\n",
              "</style>\n",
              "<table border=\"1\" class=\"dataframe\">\n",
              "  <thead>\n",
              "    <tr style=\"text-align: right;\">\n",
              "      <th></th>\n",
              "      <th>r1_hero</th>\n",
              "      <th>r1_level</th>\n",
              "      <th>r1_xp</th>\n",
              "      <th>r1_gold</th>\n",
              "      <th>r1_lh</th>\n",
              "      <th>r1_kills</th>\n",
              "      <th>r1_deaths</th>\n",
              "      <th>r1_items</th>\n",
              "      <th>r2_hero</th>\n",
              "      <th>r2_level</th>\n",
              "      <th>...</th>\n",
              "      <th>radiant_ward_sentry_count</th>\n",
              "      <th>radiant_first_ward_time</th>\n",
              "      <th>dire_bottle_time</th>\n",
              "      <th>dire_courier_time</th>\n",
              "      <th>dire_flying_courier_time</th>\n",
              "      <th>dire_tpscroll_count</th>\n",
              "      <th>dire_boots_count</th>\n",
              "      <th>dire_ward_observer_count</th>\n",
              "      <th>dire_ward_sentry_count</th>\n",
              "      <th>dire_first_ward_time</th>\n",
              "    </tr>\n",
              "  </thead>\n",
              "  <tbody>\n",
              "    <tr>\n",
              "      <th>0</th>\n",
              "      <td>11</td>\n",
              "      <td>5</td>\n",
              "      <td>2098</td>\n",
              "      <td>1489</td>\n",
              "      <td>20</td>\n",
              "      <td>0</td>\n",
              "      <td>0</td>\n",
              "      <td>7</td>\n",
              "      <td>67</td>\n",
              "      <td>3</td>\n",
              "      <td>...</td>\n",
              "      <td>0</td>\n",
              "      <td>35.0</td>\n",
              "      <td>103.0</td>\n",
              "      <td>-84.0</td>\n",
              "      <td>221.0</td>\n",
              "      <td>3</td>\n",
              "      <td>4</td>\n",
              "      <td>2</td>\n",
              "      <td>2</td>\n",
              "      <td>-52.0</td>\n",
              "    </tr>\n",
              "    <tr>\n",
              "      <th>1</th>\n",
              "      <td>42</td>\n",
              "      <td>4</td>\n",
              "      <td>1188</td>\n",
              "      <td>1033</td>\n",
              "      <td>9</td>\n",
              "      <td>0</td>\n",
              "      <td>1</td>\n",
              "      <td>12</td>\n",
              "      <td>49</td>\n",
              "      <td>4</td>\n",
              "      <td>...</td>\n",
              "      <td>0</td>\n",
              "      <td>-20.0</td>\n",
              "      <td>149.0</td>\n",
              "      <td>-84.0</td>\n",
              "      <td>195.0</td>\n",
              "      <td>5</td>\n",
              "      <td>4</td>\n",
              "      <td>3</td>\n",
              "      <td>1</td>\n",
              "      <td>-5.0</td>\n",
              "    </tr>\n",
              "    <tr>\n",
              "      <th>2</th>\n",
              "      <td>33</td>\n",
              "      <td>4</td>\n",
              "      <td>1319</td>\n",
              "      <td>1270</td>\n",
              "      <td>22</td>\n",
              "      <td>0</td>\n",
              "      <td>0</td>\n",
              "      <td>12</td>\n",
              "      <td>98</td>\n",
              "      <td>3</td>\n",
              "      <td>...</td>\n",
              "      <td>1</td>\n",
              "      <td>-39.0</td>\n",
              "      <td>45.0</td>\n",
              "      <td>-77.0</td>\n",
              "      <td>221.0</td>\n",
              "      <td>3</td>\n",
              "      <td>4</td>\n",
              "      <td>3</td>\n",
              "      <td>1</td>\n",
              "      <td>13.0</td>\n",
              "    </tr>\n",
              "    <tr>\n",
              "      <th>3</th>\n",
              "      <td>29</td>\n",
              "      <td>4</td>\n",
              "      <td>1779</td>\n",
              "      <td>1056</td>\n",
              "      <td>14</td>\n",
              "      <td>0</td>\n",
              "      <td>0</td>\n",
              "      <td>5</td>\n",
              "      <td>30</td>\n",
              "      <td>2</td>\n",
              "      <td>...</td>\n",
              "      <td>0</td>\n",
              "      <td>-30.0</td>\n",
              "      <td>124.0</td>\n",
              "      <td>-80.0</td>\n",
              "      <td>184.0</td>\n",
              "      <td>0</td>\n",
              "      <td>4</td>\n",
              "      <td>2</td>\n",
              "      <td>0</td>\n",
              "      <td>27.0</td>\n",
              "    </tr>\n",
              "    <tr>\n",
              "      <th>4</th>\n",
              "      <td>13</td>\n",
              "      <td>4</td>\n",
              "      <td>1431</td>\n",
              "      <td>1090</td>\n",
              "      <td>8</td>\n",
              "      <td>1</td>\n",
              "      <td>0</td>\n",
              "      <td>8</td>\n",
              "      <td>27</td>\n",
              "      <td>2</td>\n",
              "      <td>...</td>\n",
              "      <td>0</td>\n",
              "      <td>46.0</td>\n",
              "      <td>182.0</td>\n",
              "      <td>-80.0</td>\n",
              "      <td>225.0</td>\n",
              "      <td>6</td>\n",
              "      <td>3</td>\n",
              "      <td>3</td>\n",
              "      <td>0</td>\n",
              "      <td>-16.0</td>\n",
              "    </tr>\n",
              "    <tr>\n",
              "      <th>...</th>\n",
              "      <td>...</td>\n",
              "      <td>...</td>\n",
              "      <td>...</td>\n",
              "      <td>...</td>\n",
              "      <td>...</td>\n",
              "      <td>...</td>\n",
              "      <td>...</td>\n",
              "      <td>...</td>\n",
              "      <td>...</td>\n",
              "      <td>...</td>\n",
              "      <td>...</td>\n",
              "      <td>...</td>\n",
              "      <td>...</td>\n",
              "      <td>...</td>\n",
              "      <td>...</td>\n",
              "      <td>...</td>\n",
              "      <td>...</td>\n",
              "      <td>...</td>\n",
              "      <td>...</td>\n",
              "      <td>...</td>\n",
              "      <td>...</td>\n",
              "    </tr>\n",
              "    <tr>\n",
              "      <th>97225</th>\n",
              "      <td>47</td>\n",
              "      <td>4</td>\n",
              "      <td>1706</td>\n",
              "      <td>1198</td>\n",
              "      <td>17</td>\n",
              "      <td>0</td>\n",
              "      <td>1</td>\n",
              "      <td>8</td>\n",
              "      <td>7</td>\n",
              "      <td>2</td>\n",
              "      <td>...</td>\n",
              "      <td>0</td>\n",
              "      <td>-29.0</td>\n",
              "      <td>180.0</td>\n",
              "      <td>-76.0</td>\n",
              "      <td>180.0</td>\n",
              "      <td>3</td>\n",
              "      <td>4</td>\n",
              "      <td>3</td>\n",
              "      <td>0</td>\n",
              "      <td>-24.0</td>\n",
              "    </tr>\n",
              "    <tr>\n",
              "      <th>97226</th>\n",
              "      <td>43</td>\n",
              "      <td>4</td>\n",
              "      <td>1793</td>\n",
              "      <td>1416</td>\n",
              "      <td>17</td>\n",
              "      <td>0</td>\n",
              "      <td>1</td>\n",
              "      <td>5</td>\n",
              "      <td>26</td>\n",
              "      <td>3</td>\n",
              "      <td>...</td>\n",
              "      <td>0</td>\n",
              "      <td>-5.0</td>\n",
              "      <td>NaN</td>\n",
              "      <td>-82.0</td>\n",
              "      <td>NaN</td>\n",
              "      <td>4</td>\n",
              "      <td>3</td>\n",
              "      <td>2</td>\n",
              "      <td>0</td>\n",
              "      <td>-17.0</td>\n",
              "    </tr>\n",
              "    <tr>\n",
              "      <th>97227</th>\n",
              "      <td>98</td>\n",
              "      <td>4</td>\n",
              "      <td>1399</td>\n",
              "      <td>540</td>\n",
              "      <td>1</td>\n",
              "      <td>0</td>\n",
              "      <td>0</td>\n",
              "      <td>5</td>\n",
              "      <td>11</td>\n",
              "      <td>4</td>\n",
              "      <td>...</td>\n",
              "      <td>2</td>\n",
              "      <td>-32.0</td>\n",
              "      <td>249.0</td>\n",
              "      <td>-70.0</td>\n",
              "      <td>NaN</td>\n",
              "      <td>1</td>\n",
              "      <td>1</td>\n",
              "      <td>3</td>\n",
              "      <td>1</td>\n",
              "      <td>-15.0</td>\n",
              "    </tr>\n",
              "    <tr>\n",
              "      <th>97228</th>\n",
              "      <td>100</td>\n",
              "      <td>3</td>\n",
              "      <td>1135</td>\n",
              "      <td>766</td>\n",
              "      <td>6</td>\n",
              "      <td>0</td>\n",
              "      <td>2</td>\n",
              "      <td>6</td>\n",
              "      <td>72</td>\n",
              "      <td>5</td>\n",
              "      <td>...</td>\n",
              "      <td>0</td>\n",
              "      <td>-21.0</td>\n",
              "      <td>254.0</td>\n",
              "      <td>-85.0</td>\n",
              "      <td>183.0</td>\n",
              "      <td>5</td>\n",
              "      <td>3</td>\n",
              "      <td>3</td>\n",
              "      <td>1</td>\n",
              "      <td>-42.0</td>\n",
              "    </tr>\n",
              "    <tr>\n",
              "      <th>97229</th>\n",
              "      <td>50</td>\n",
              "      <td>3</td>\n",
              "      <td>1053</td>\n",
              "      <td>799</td>\n",
              "      <td>7</td>\n",
              "      <td>0</td>\n",
              "      <td>0</td>\n",
              "      <td>7</td>\n",
              "      <td>19</td>\n",
              "      <td>5</td>\n",
              "      <td>...</td>\n",
              "      <td>0</td>\n",
              "      <td>-36.0</td>\n",
              "      <td>131.0</td>\n",
              "      <td>-59.0</td>\n",
              "      <td>NaN</td>\n",
              "      <td>5</td>\n",
              "      <td>3</td>\n",
              "      <td>2</td>\n",
              "      <td>0</td>\n",
              "      <td>-39.0</td>\n",
              "    </tr>\n",
              "  </tbody>\n",
              "</table>\n",
              "<p>97230 rows × 100 columns</p>\n",
              "</div>"
            ],
            "text/plain": [
              "       r1_hero  r1_level  r1_xp  r1_gold  r1_lh  r1_kills  r1_deaths  \\\n",
              "0           11         5   2098     1489     20         0          0   \n",
              "1           42         4   1188     1033      9         0          1   \n",
              "2           33         4   1319     1270     22         0          0   \n",
              "3           29         4   1779     1056     14         0          0   \n",
              "4           13         4   1431     1090      8         1          0   \n",
              "...        ...       ...    ...      ...    ...       ...        ...   \n",
              "97225       47         4   1706     1198     17         0          1   \n",
              "97226       43         4   1793     1416     17         0          1   \n",
              "97227       98         4   1399      540      1         0          0   \n",
              "97228      100         3   1135      766      6         0          2   \n",
              "97229       50         3   1053      799      7         0          0   \n",
              "\n",
              "       r1_items  r2_hero  r2_level  ...  radiant_ward_sentry_count  \\\n",
              "0             7       67         3  ...                          0   \n",
              "1            12       49         4  ...                          0   \n",
              "2            12       98         3  ...                          1   \n",
              "3             5       30         2  ...                          0   \n",
              "4             8       27         2  ...                          0   \n",
              "...         ...      ...       ...  ...                        ...   \n",
              "97225         8        7         2  ...                          0   \n",
              "97226         5       26         3  ...                          0   \n",
              "97227         5       11         4  ...                          2   \n",
              "97228         6       72         5  ...                          0   \n",
              "97229         7       19         5  ...                          0   \n",
              "\n",
              "       radiant_first_ward_time  dire_bottle_time  dire_courier_time  \\\n",
              "0                         35.0             103.0              -84.0   \n",
              "1                        -20.0             149.0              -84.0   \n",
              "2                        -39.0              45.0              -77.0   \n",
              "3                        -30.0             124.0              -80.0   \n",
              "4                         46.0             182.0              -80.0   \n",
              "...                        ...               ...                ...   \n",
              "97225                    -29.0             180.0              -76.0   \n",
              "97226                     -5.0               NaN              -82.0   \n",
              "97227                    -32.0             249.0              -70.0   \n",
              "97228                    -21.0             254.0              -85.0   \n",
              "97229                    -36.0             131.0              -59.0   \n",
              "\n",
              "       dire_flying_courier_time  dire_tpscroll_count  dire_boots_count  \\\n",
              "0                         221.0                    3                 4   \n",
              "1                         195.0                    5                 4   \n",
              "2                         221.0                    3                 4   \n",
              "3                         184.0                    0                 4   \n",
              "4                         225.0                    6                 3   \n",
              "...                         ...                  ...               ...   \n",
              "97225                     180.0                    3                 4   \n",
              "97226                       NaN                    4                 3   \n",
              "97227                       NaN                    1                 1   \n",
              "97228                     183.0                    5                 3   \n",
              "97229                       NaN                    5                 3   \n",
              "\n",
              "       dire_ward_observer_count  dire_ward_sentry_count  dire_first_ward_time  \n",
              "0                             2                       2                 -52.0  \n",
              "1                             3                       1                  -5.0  \n",
              "2                             3                       1                  13.0  \n",
              "3                             2                       0                  27.0  \n",
              "4                             3                       0                 -16.0  \n",
              "...                         ...                     ...                   ...  \n",
              "97225                         3                       0                 -24.0  \n",
              "97226                         2                       0                 -17.0  \n",
              "97227                         3                       1                 -15.0  \n",
              "97228                         3                       1                 -42.0  \n",
              "97229                         2                       0                 -39.0  \n",
              "\n",
              "[97230 rows x 100 columns]"
            ]
          },
          "execution_count": 5,
          "metadata": {},
          "output_type": "execute_result"
        }
      ],
      "source": [
        "features = df.drop(['radiant_win', 'lobby_type', 'start_time', 'duration', 'tower_status_radiant', 'tower_status_dire', 'barracks_status_radiant', 'barracks_status_dire'], axis = 1)\n",
        "features"
      ]
    },
    {
      "cell_type": "markdown",
      "metadata": {
        "id": "_tVCEvgbV_Ii"
      },
      "source": [
        "Посмотрим, в каких столбцах есть пропуски:"
      ]
    },
    {
      "cell_type": "code",
      "execution_count": null,
      "metadata": {
        "id": "pP3z5HOlV_Ij",
        "outputId": "8deaa4de-ba48-44e1-bd13-ebbdb6d48e25"
      },
      "outputs": [
        {
          "data": {
            "text/plain": [
              "first_blood_player2            43987\n",
              "radiant_flying_courier_time    27479\n",
              "dire_flying_courier_time       26098\n",
              "first_blood_time               19553\n",
              "first_blood_team               19553\n",
              "first_blood_player1            19553\n",
              "dire_bottle_time               16143\n",
              "radiant_bottle_time            15691\n",
              "radiant_first_ward_time         1836\n",
              "dire_first_ward_time            1826\n",
              "radiant_courier_time             692\n",
              "dire_courier_time                676\n",
              "r5_kills                           0\n",
              "r4_items                           0\n",
              "r3_items                           0\n",
              "dtype: int64"
            ]
          },
          "execution_count": 6,
          "metadata": {},
          "output_type": "execute_result"
        }
      ],
      "source": [
        "features.isna().sum().sort_values(ascending = False).head(15)"
      ]
    },
    {
      "cell_type": "markdown",
      "metadata": {
        "id": "AiDZuBhfV_Ij"
      },
      "source": [
        "Из описания признаков мы знаем, что если событие \"первая кровь\" не успело произойти за первые 5 минут, то признаки принимают пропущенное значение. Значит, признаки в столбцах first_blood_time,\n",
        "first_blood_team, first_blood_player1, first_blood_player2 можно заменить на нули.\n",
        "\n",
        "Признаки radiant_flying_courier_time и dire_flying_courier_time обозначают время приобретения предмета \"flying_courier\". Вероятно, пропуск означает, что этот предмет не был приобретен данной командой в ходе игры. Скорее всего, пропуски в этих столбцах тоже можно заменить нулями.\n",
        "\n",
        "То же самое относится и к другим признакам с пропусками:\n",
        "- dire_bottle_time               \n",
        "- radiant_bottle_time            \n",
        "- radiant_first_ward_time         \n",
        "- dire_first_ward_time            \n",
        "- radiant_courier_time             \n",
        "- dire_courier_time                "
      ]
    },
    {
      "cell_type": "code",
      "execution_count": null,
      "metadata": {
        "id": "-Yi45ciLV_Ik",
        "outputId": "4701be2a-bd28-41cd-fd42-c10db8d5495d"
      },
      "outputs": [
        {
          "data": {
            "text/plain": [
              "0"
            ]
          },
          "execution_count": 7,
          "metadata": {},
          "output_type": "execute_result"
        }
      ],
      "source": [
        "features = features.fillna(0)\n",
        "features.isna().sum().sum()"
      ]
    },
    {
      "cell_type": "markdown",
      "metadata": {
        "id": "VSmnobmoV_Ik"
      },
      "source": [
        "Импортируем библиотеки для предобработки данных и обучения моделей и метрики качества:"
      ]
    },
    {
      "cell_type": "code",
      "execution_count": null,
      "metadata": {
        "id": "Pwab2tP6V_Il"
      },
      "outputs": [],
      "source": [
        "from sklearn.model_selection import KFold\n",
        "from sklearn.ensemble import GradientBoostingClassifier\n",
        "from sklearn.metrics import roc_auc_score\n",
        "from sklearn.model_selection import cross_val_score\n",
        "from sklearn.preprocessing import StandardScaler\n",
        "from sklearn.linear_model import LogisticRegression\n",
        "\n",
        "import time\n",
        "import datetime"
      ]
    },
    {
      "cell_type": "markdown",
      "metadata": {
        "id": "TOMmNA0rV_Il"
      },
      "source": [
        "## Градиентный бустинг"
      ]
    },
    {
      "cell_type": "markdown",
      "metadata": {
        "id": "rFmp6qiCV_Im"
      },
      "source": [
        "Попробуем обучить модель градиентного бустинга, высчитаем метрику качества на кросс-валидации и посмотрим, как она меняется с увеличением количества деревьев:"
      ]
    },
    {
      "cell_type": "code",
      "execution_count": null,
      "metadata": {
        "scrolled": true,
        "id": "Maot3RVPV_Im",
        "outputId": "a3fa003f-b7b1-4671-9abb-c405c6bb2091"
      },
      "outputs": [
        {
          "data": {
            "text/plain": [
              "[array([0.68560771, 0.68684191, 0.68938608, 0.67923921, 0.68516071]),\n",
              " array([0.6954447 , 0.69994919, 0.70172171, 0.69186507, 0.69625441]),\n",
              " array([0.70087222, 0.70505842, 0.7071958 , 0.69829634, 0.70112137]),\n",
              " array([0.70438323, 0.70817775, 0.71030125, 0.70190069, 0.7039526 ]),\n",
              " array([0.70621643, 0.7111071 , 0.71325159, 0.70443683, 0.70590954])]"
            ]
          },
          "metadata": {},
          "output_type": "display_data"
        },
        {
          "name": "stdout",
          "output_type": "stream",
          "text": [
            "0.6852\n",
            "0.697\n",
            "0.7025\n",
            "0.7057\n",
            "0.7082\n",
            "Time elapsed: 0:17:00.303590\n"
          ]
        }
      ],
      "source": [
        "start_time = datetime.datetime.now()\n",
        "\n",
        "time.sleep(3)\n",
        "\n",
        "scores = []\n",
        "folds = KFold(n_splits = 5, shuffle = True, random_state = 1)\n",
        "for k in range(10, 51, 10):\n",
        "    gbc = GradientBoostingClassifier(random_state = 1, n_estimators = k, learning_rate = 0.5)\n",
        "    score = cross_val_score(gbc, features, y, cv = folds, scoring = 'roc_auc')\n",
        "    scores.append(score)\n",
        "display(scores)\n",
        "\n",
        "for i in scores:\n",
        "    print(round(np.mean(i), 4))\n",
        "\n",
        "print ('Time elapsed:', datetime.datetime.now() - start_time)"
      ]
    },
    {
      "cell_type": "markdown",
      "metadata": {
        "id": "_ToBDMgXV_In"
      },
      "source": [
        "Как видим, качество модели повышается с увеличением количества деревьев. При этом модель обучается слишком долго."
      ]
    },
    {
      "cell_type": "markdown",
      "metadata": {
        "id": "oYWp6purV_In"
      },
      "source": [
        "## Логистическая регрессия"
      ]
    },
    {
      "cell_type": "markdown",
      "metadata": {
        "id": "wv7elyGnV_In"
      },
      "source": [
        "Логистическая регрессия должна обучаться быстрее, чем градиентный бустинг. Попробуем обучить несколько моделей с разными параметрами регуляризации и сравним их качество на кросс-валидации.\n",
        "\n",
        "Масштабируем признаки:"
      ]
    },
    {
      "cell_type": "code",
      "execution_count": null,
      "metadata": {
        "id": "1uqQcX4xV_Io"
      },
      "outputs": [],
      "source": [
        "scal = StandardScaler()\n",
        "scal.fit(features)\n",
        "X0 = pd.DataFrame(scal.transform(features), columns = features.columns)"
      ]
    },
    {
      "cell_type": "code",
      "execution_count": null,
      "metadata": {
        "id": "k0qa_HIQV_Io",
        "outputId": "1fa16df1-c081-4905-855e-b2be3f3d825a"
      },
      "outputs": [
        {
          "data": {
            "text/plain": [
              "[array([0.71129324, 0.72005823, 0.71730233, 0.71456213, 0.71740981]),\n",
              " array([0.7114275 , 0.72042863, 0.71760376, 0.71499492, 0.71707668]),\n",
              " array([0.71139104, 0.72041421, 0.71760655, 0.71501943, 0.71696641]),\n",
              " array([0.71138501, 0.72041166, 0.7176097 , 0.71502025, 0.71695207])]"
            ]
          },
          "metadata": {},
          "output_type": "display_data"
        },
        {
          "name": "stdout",
          "output_type": "stream",
          "text": [
            "Средний AUC-ROC: 0.7161\n",
            "Средний AUC-ROC: 0.7163\n",
            "Средний AUC-ROC: 0.7163\n",
            "Средний AUC-ROC: 0.7163\n",
            "Time elapsed: 0:00:27.006514\n"
          ]
        }
      ],
      "source": [
        "start_time = datetime.datetime.now()\n",
        "\n",
        "time.sleep(3)\n",
        "\n",
        "scores0 = []\n",
        "folds = KFold(n_splits = 5, shuffle = True, random_state = 1)\n",
        "for k in [0.001, 0.01, 0.1, 1.0]:\n",
        "    logreg = LogisticRegression(random_state = 1, C = k)\n",
        "    score = cross_val_score(logreg, X0, y, cv = folds, scoring = 'roc_auc')\n",
        "    scores0.append(score)\n",
        "display(scores0)\n",
        "\n",
        "for i in scores0:\n",
        "    print('Средний AUC-ROC:', round(np.mean(i), 4))\n",
        "\n",
        "print ('Time elapsed:', datetime.datetime.now() - start_time)"
      ]
    },
    {
      "cell_type": "markdown",
      "metadata": {
        "id": "TS1BVNBfV_Ip"
      },
      "source": [
        "Результаты сопоставимы с результатами модели градиентного бустинга, но модель обучается значительно быстрее."
      ]
    },
    {
      "cell_type": "markdown",
      "metadata": {
        "id": "7TMmrjoAV_Ip"
      },
      "source": [
        "Теперь попробуем обучить модель, исключив закодированные категориальные признаки с героями игры:"
      ]
    },
    {
      "cell_type": "code",
      "execution_count": null,
      "metadata": {
        "id": "yrXOLOoUV_Ip",
        "outputId": "1417d98a-50f1-4968-a90d-3f3a185cc789"
      },
      "outputs": [
        {
          "name": "stdout",
          "output_type": "stream",
          "text": [
            "100\n"
          ]
        },
        {
          "data": {
            "text/plain": [
              "90"
            ]
          },
          "execution_count": 12,
          "metadata": {},
          "output_type": "execute_result"
        }
      ],
      "source": [
        "features_num = list(features.columns)\n",
        "print(len(features_num))\n",
        "\n",
        "features_cat = ['r1_hero', 'r2_hero', 'r3_hero', 'r4_hero', 'r5_hero', 'd1_hero', 'd2_hero', 'd3_hero', 'd4_hero', 'd5_hero']\n",
        "\n",
        "for i in features_cat:\n",
        "    features_num.remove(i)\n",
        "\n",
        "len(features_num)"
      ]
    },
    {
      "cell_type": "code",
      "execution_count": null,
      "metadata": {
        "id": "clWIEItgV_Iq"
      },
      "outputs": [],
      "source": [
        "scaler = StandardScaler()\n",
        "scaler.fit(features[features_num])\n",
        "X1 = pd.DataFrame(scaler.transform(features[features_num]), columns = features_num)"
      ]
    },
    {
      "cell_type": "code",
      "execution_count": null,
      "metadata": {
        "id": "gJheZtgAV_Iu",
        "outputId": "e23e548b-6654-4fa6-d802-7cca73bd9956"
      },
      "outputs": [
        {
          "data": {
            "text/plain": [
              "[array([0.71141743, 0.72017674, 0.71721692, 0.7144635 , 0.71743645]),\n",
              " array([0.71154013, 0.72057888, 0.71751394, 0.71489546, 0.71712114]),\n",
              " array([0.71150866, 0.72058126, 0.71751891, 0.71492553, 0.71700583]),\n",
              " array([0.71150434, 0.72057956, 0.71751908, 0.71492824, 0.71699432])]"
            ]
          },
          "metadata": {},
          "output_type": "display_data"
        },
        {
          "name": "stdout",
          "output_type": "stream",
          "text": [
            "Средний AUC-ROC: 0.7161\n",
            "Средний AUC-ROC: 0.7163\n",
            "Средний AUC-ROC: 0.7163\n",
            "Средний AUC-ROC: 0.7163\n",
            "Time elapsed: 0:00:26.437634\n"
          ]
        }
      ],
      "source": [
        "start_time = datetime.datetime.now()\n",
        "\n",
        "time.sleep(3)\n",
        "\n",
        "scores1 = []\n",
        "folds = KFold(n_splits = 5, shuffle = True, random_state = 1)\n",
        "for k in [0.001, 0.01, 0.1, 1.0]:\n",
        "    logreg = LogisticRegression(random_state = 1, C = k)\n",
        "    score = cross_val_score(logreg, X1, y, cv = folds, scoring = 'roc_auc')\n",
        "    scores1.append(score)\n",
        "display(scores1)\n",
        "\n",
        "for i in scores1:\n",
        "    print('Средний AUC-ROC:', round(np.mean(i), 4))\n",
        "\n",
        "print ('Time elapsed:', datetime.datetime.now() - start_time)"
      ]
    },
    {
      "cell_type": "markdown",
      "metadata": {
        "id": "21gpEbVDV_Iu"
      },
      "source": [
        "Качество улучшилось незначительно. Наилучший результат показывает модель с параметром регуляризации 0.01."
      ]
    },
    {
      "cell_type": "markdown",
      "metadata": {
        "id": "B1Y8rPY-V_Iv"
      },
      "source": [
        "Мы исключили из выборки признаки rM_hero и dM_hero, которые показывают, какие именно герои играли за каждую команду. Это важные признаки — герои имеют разные характеристики, и некоторые из них выигрывают чаще, чем другие. Выясним из данных, сколько различных идентификаторов героев существует в данной игре:"
      ]
    },
    {
      "cell_type": "code",
      "execution_count": null,
      "metadata": {
        "scrolled": true,
        "id": "e5aNqD7gV_Iv",
        "outputId": "2557211a-09cb-4992-ab96-5fbcb85d411d"
      },
      "outputs": [
        {
          "name": "stdout",
          "output_type": "stream",
          "text": [
            "r1_hero - 108\n",
            "r2_hero - 108\n",
            "r3_hero - 108\n",
            "r4_hero - 108\n",
            "r5_hero - 108\n",
            "d1_hero - 108\n",
            "d2_hero - 108\n",
            "d3_hero - 108\n",
            "d4_hero - 108\n",
            "d5_hero - 108\n"
          ]
        }
      ],
      "source": [
        "for i in features_cat:\n",
        "    print(i, '-', features[i].nunique())"
      ]
    },
    {
      "cell_type": "markdown",
      "metadata": {
        "id": "3_SA3obQV_Iv"
      },
      "source": [
        "Сохраним все уникальные номера в переменной hero_ids:"
      ]
    },
    {
      "cell_type": "code",
      "execution_count": null,
      "metadata": {
        "scrolled": true,
        "id": "8YMEYapAV_Iw",
        "outputId": "909e477a-076d-4aba-e5c1-a8af9ed7b50a"
      },
      "outputs": [
        {
          "name": "stdout",
          "output_type": "stream",
          "text": [
            "[1, 2, 3, 4, 5, 6, 7, 8, 9, 10, 11, 12, 13, 14, 15, 16, 17, 18, 19, 20, 21, 22, 23, 25, 26, 27, 28, 29, 30, 31, 32, 33, 34, 35, 36, 37, 38, 39, 40, 41, 42, 43, 44, 45, 46, 47, 48, 49, 50, 51, 52, 53, 54, 55, 56, 57, 58, 59, 60, 61, 62, 63, 64, 65, 66, 67, 68, 69, 70, 71, 72, 73, 74, 75, 76, 77, 78, 79, 80, 81, 82, 83, 84, 85, 86, 87, 88, 89, 90, 91, 92, 93, 94, 95, 96, 97, 98, 99, 100, 101, 102, 103, 104, 105, 106, 109, 110, 112]\n"
          ]
        }
      ],
      "source": [
        "import collections\n",
        "hero_ids = collections.Counter()\n",
        "\n",
        "for i in features_cat:\n",
        "    for h in features[i].unique():\n",
        "        if hero_ids[h] not in hero_ids:\n",
        "            hero_ids[h] = 1\n",
        "        else:\n",
        "            hero_ids[h] += 1\n",
        "\n",
        "hero_ids = list(sorted(hero_ids.keys()))\n",
        "print(hero_ids)"
      ]
    },
    {
      "cell_type": "markdown",
      "metadata": {
        "id": "RnqVADCPV_Iw"
      },
      "source": [
        "Всего в игре имеется 108 различных героев. Сформируем 108 признаков, при этом i-й будет равен нулю, если i-й герой не участвовал в матче; единице, если i-й герой играл за команду Radiant; минус единице, если i-й герой играл за команду Dire."
      ]
    },
    {
      "cell_type": "code",
      "execution_count": null,
      "metadata": {
        "id": "yCOHZbqWV_Ix"
      },
      "outputs": [],
      "source": [
        "r_heroes = ['r1_hero', 'r2_hero', 'r3_hero', 'r4_hero', 'r5_hero']\n",
        "d_heroes = ['d1_hero', 'd2_hero', 'd3_hero', 'd4_hero', 'd5_hero']"
      ]
    },
    {
      "cell_type": "code",
      "execution_count": null,
      "metadata": {
        "scrolled": true,
        "id": "uZTjXIr1V_Ix"
      },
      "outputs": [],
      "source": [
        "X_pick = pd.DataFrame(np.zeros((features.shape[0], 108)), columns = hero_ids)\n",
        "\n",
        "for i in features.index:\n",
        "    for r in r_heroes:\n",
        "        X_pick.loc[i, features.loc[i, r]] = 1\n",
        "    for d in d_heroes:\n",
        "        X_pick.loc[i, features.loc[i, d]] = -1"
      ]
    },
    {
      "cell_type": "markdown",
      "metadata": {
        "id": "tcIp8z9RV_Ix"
      },
      "source": [
        "Добавим полученные признаки к числовым:"
      ]
    },
    {
      "cell_type": "code",
      "execution_count": null,
      "metadata": {
        "id": "OxOZz-5lV_Iy",
        "outputId": "24f9c4f0-88a1-40cc-b522-bff96059da68"
      },
      "outputs": [
        {
          "data": {
            "text/plain": [
              "(97230, 90)"
            ]
          },
          "execution_count": 19,
          "metadata": {},
          "output_type": "execute_result"
        }
      ],
      "source": [
        "X1.shape"
      ]
    },
    {
      "cell_type": "code",
      "execution_count": null,
      "metadata": {
        "scrolled": true,
        "id": "NELs4rMAV_Iy"
      },
      "outputs": [],
      "source": [
        "X2 = pd.concat([X1, X_pick], axis = 1)"
      ]
    },
    {
      "cell_type": "code",
      "execution_count": null,
      "metadata": {
        "id": "I-5yVB4vV_Iy",
        "outputId": "63d27140-3362-4376-e4cf-a28f9a06dc03"
      },
      "outputs": [
        {
          "data": {
            "text/plain": [
              "(97230, 198)"
            ]
          },
          "execution_count": 21,
          "metadata": {},
          "output_type": "execute_result"
        }
      ],
      "source": [
        "X2.shape"
      ]
    },
    {
      "cell_type": "markdown",
      "metadata": {
        "id": "m3sAgP89V_Iz"
      },
      "source": [
        "Обучим модель логистической регрессии с новыми признаками:"
      ]
    },
    {
      "cell_type": "code",
      "execution_count": null,
      "metadata": {
        "scrolled": true,
        "id": "D2ONXGkGV_Iz",
        "outputId": "281eeb7d-129c-413a-a6e4-34affeb64bb6"
      },
      "outputs": [
        {
          "data": {
            "text/plain": [
              "[array([0.75115989, 0.75467943, 0.75105004, 0.75036993, 0.75155796])]"
            ]
          },
          "metadata": {},
          "output_type": "display_data"
        },
        {
          "name": "stdout",
          "output_type": "stream",
          "text": [
            "Средний AUC-ROC: 0.7518\n",
            "Time elapsed: 0:00:25.547235\n"
          ]
        }
      ],
      "source": [
        "start_time = datetime.datetime.now()\n",
        "\n",
        "time.sleep(3)\n",
        "\n",
        "scores2 = []\n",
        "folds = KFold(n_splits = 5, shuffle = True, random_state = 1)\n",
        "logreg = LogisticRegression(random_state = 1, C = 0.1, max_iter = 1000)\n",
        "score = cross_val_score(logreg, X2, y, cv = folds, scoring = 'roc_auc')\n",
        "scores2.append(score)\n",
        "display(scores2)\n",
        "\n",
        "print('Средний AUC-ROC:', round(np.mean(scores2), 4))\n",
        "print ('Time elapsed:', datetime.datetime.now() - start_time)"
      ]
    },
    {
      "cell_type": "markdown",
      "metadata": {
        "id": "C6S1FRQSV_Iz"
      },
      "source": [
        "Качество модели значительно улучшилось. Алгоритм смог обнаружить закономерности в данных: некоторые герои выигрывают чаще, чем другие."
      ]
    },
    {
      "cell_type": "markdown",
      "metadata": {
        "id": "WnWssE59V_I0"
      },
      "source": [
        "## Проверка модели на тестовой выборке"
      ]
    },
    {
      "cell_type": "markdown",
      "metadata": {
        "id": "XcVuZARkV_I0"
      },
      "source": [
        "Загрузим тестовую выборку:"
      ]
    },
    {
      "cell_type": "code",
      "execution_count": null,
      "metadata": {
        "scrolled": true,
        "id": "mm-4UXpYV_I0",
        "outputId": "df80d731-f5ff-448d-98b8-d281902654ab"
      },
      "outputs": [
        {
          "data": {
            "text/html": [
              "<div>\n",
              "<style scoped>\n",
              "    .dataframe tbody tr th:only-of-type {\n",
              "        vertical-align: middle;\n",
              "    }\n",
              "\n",
              "    .dataframe tbody tr th {\n",
              "        vertical-align: top;\n",
              "    }\n",
              "\n",
              "    .dataframe thead th {\n",
              "        text-align: right;\n",
              "    }\n",
              "</style>\n",
              "<table border=\"1\" class=\"dataframe\">\n",
              "  <thead>\n",
              "    <tr style=\"text-align: right;\">\n",
              "      <th></th>\n",
              "      <th>match_id</th>\n",
              "      <th>start_time</th>\n",
              "      <th>lobby_type</th>\n",
              "      <th>r1_hero</th>\n",
              "      <th>r1_level</th>\n",
              "      <th>r1_xp</th>\n",
              "      <th>r1_gold</th>\n",
              "      <th>r1_lh</th>\n",
              "      <th>r1_kills</th>\n",
              "      <th>r1_deaths</th>\n",
              "      <th>...</th>\n",
              "      <th>radiant_ward_sentry_count</th>\n",
              "      <th>radiant_first_ward_time</th>\n",
              "      <th>dire_bottle_time</th>\n",
              "      <th>dire_courier_time</th>\n",
              "      <th>dire_flying_courier_time</th>\n",
              "      <th>dire_tpscroll_count</th>\n",
              "      <th>dire_boots_count</th>\n",
              "      <th>dire_ward_observer_count</th>\n",
              "      <th>dire_ward_sentry_count</th>\n",
              "      <th>dire_first_ward_time</th>\n",
              "    </tr>\n",
              "  </thead>\n",
              "  <tbody>\n",
              "    <tr>\n",
              "      <th>0</th>\n",
              "      <td>6</td>\n",
              "      <td>1430287923</td>\n",
              "      <td>0</td>\n",
              "      <td>93</td>\n",
              "      <td>4</td>\n",
              "      <td>1103</td>\n",
              "      <td>1089</td>\n",
              "      <td>8</td>\n",
              "      <td>0</td>\n",
              "      <td>1</td>\n",
              "      <td>...</td>\n",
              "      <td>0</td>\n",
              "      <td>12.0</td>\n",
              "      <td>247.0</td>\n",
              "      <td>-86.0</td>\n",
              "      <td>272.0</td>\n",
              "      <td>3</td>\n",
              "      <td>4</td>\n",
              "      <td>2</td>\n",
              "      <td>0</td>\n",
              "      <td>118.0</td>\n",
              "    </tr>\n",
              "    <tr>\n",
              "      <th>1</th>\n",
              "      <td>7</td>\n",
              "      <td>1430293357</td>\n",
              "      <td>1</td>\n",
              "      <td>20</td>\n",
              "      <td>2</td>\n",
              "      <td>556</td>\n",
              "      <td>570</td>\n",
              "      <td>1</td>\n",
              "      <td>0</td>\n",
              "      <td>0</td>\n",
              "      <td>...</td>\n",
              "      <td>2</td>\n",
              "      <td>-29.0</td>\n",
              "      <td>168.0</td>\n",
              "      <td>-54.0</td>\n",
              "      <td>NaN</td>\n",
              "      <td>3</td>\n",
              "      <td>2</td>\n",
              "      <td>2</td>\n",
              "      <td>1</td>\n",
              "      <td>16.0</td>\n",
              "    </tr>\n",
              "    <tr>\n",
              "      <th>2</th>\n",
              "      <td>10</td>\n",
              "      <td>1430301774</td>\n",
              "      <td>1</td>\n",
              "      <td>112</td>\n",
              "      <td>2</td>\n",
              "      <td>751</td>\n",
              "      <td>808</td>\n",
              "      <td>1</td>\n",
              "      <td>0</td>\n",
              "      <td>0</td>\n",
              "      <td>...</td>\n",
              "      <td>1</td>\n",
              "      <td>-22.0</td>\n",
              "      <td>46.0</td>\n",
              "      <td>-87.0</td>\n",
              "      <td>186.0</td>\n",
              "      <td>1</td>\n",
              "      <td>3</td>\n",
              "      <td>3</td>\n",
              "      <td>0</td>\n",
              "      <td>-34.0</td>\n",
              "    </tr>\n",
              "    <tr>\n",
              "      <th>3</th>\n",
              "      <td>13</td>\n",
              "      <td>1430323933</td>\n",
              "      <td>1</td>\n",
              "      <td>27</td>\n",
              "      <td>3</td>\n",
              "      <td>708</td>\n",
              "      <td>903</td>\n",
              "      <td>1</td>\n",
              "      <td>1</td>\n",
              "      <td>1</td>\n",
              "      <td>...</td>\n",
              "      <td>2</td>\n",
              "      <td>-49.0</td>\n",
              "      <td>30.0</td>\n",
              "      <td>-89.0</td>\n",
              "      <td>210.0</td>\n",
              "      <td>3</td>\n",
              "      <td>4</td>\n",
              "      <td>2</td>\n",
              "      <td>1</td>\n",
              "      <td>-26.0</td>\n",
              "    </tr>\n",
              "    <tr>\n",
              "      <th>4</th>\n",
              "      <td>16</td>\n",
              "      <td>1430331112</td>\n",
              "      <td>1</td>\n",
              "      <td>39</td>\n",
              "      <td>4</td>\n",
              "      <td>1259</td>\n",
              "      <td>661</td>\n",
              "      <td>4</td>\n",
              "      <td>0</td>\n",
              "      <td>0</td>\n",
              "      <td>...</td>\n",
              "      <td>0</td>\n",
              "      <td>36.0</td>\n",
              "      <td>180.0</td>\n",
              "      <td>-86.0</td>\n",
              "      <td>180.0</td>\n",
              "      <td>1</td>\n",
              "      <td>3</td>\n",
              "      <td>2</td>\n",
              "      <td>1</td>\n",
              "      <td>-33.0</td>\n",
              "    </tr>\n",
              "    <tr>\n",
              "      <th>...</th>\n",
              "      <td>...</td>\n",
              "      <td>...</td>\n",
              "      <td>...</td>\n",
              "      <td>...</td>\n",
              "      <td>...</td>\n",
              "      <td>...</td>\n",
              "      <td>...</td>\n",
              "      <td>...</td>\n",
              "      <td>...</td>\n",
              "      <td>...</td>\n",
              "      <td>...</td>\n",
              "      <td>...</td>\n",
              "      <td>...</td>\n",
              "      <td>...</td>\n",
              "      <td>...</td>\n",
              "      <td>...</td>\n",
              "      <td>...</td>\n",
              "      <td>...</td>\n",
              "      <td>...</td>\n",
              "      <td>...</td>\n",
              "      <td>...</td>\n",
              "    </tr>\n",
              "    <tr>\n",
              "      <th>17172</th>\n",
              "      <td>114369</td>\n",
              "      <td>1450212780</td>\n",
              "      <td>7</td>\n",
              "      <td>11</td>\n",
              "      <td>5</td>\n",
              "      <td>2054</td>\n",
              "      <td>1941</td>\n",
              "      <td>27</td>\n",
              "      <td>0</td>\n",
              "      <td>1</td>\n",
              "      <td>...</td>\n",
              "      <td>1</td>\n",
              "      <td>8.0</td>\n",
              "      <td>253.0</td>\n",
              "      <td>-87.0</td>\n",
              "      <td>NaN</td>\n",
              "      <td>4</td>\n",
              "      <td>3</td>\n",
              "      <td>2</td>\n",
              "      <td>1</td>\n",
              "      <td>-33.0</td>\n",
              "    </tr>\n",
              "    <tr>\n",
              "      <th>17173</th>\n",
              "      <td>114377</td>\n",
              "      <td>1450222875</td>\n",
              "      <td>1</td>\n",
              "      <td>3</td>\n",
              "      <td>3</td>\n",
              "      <td>748</td>\n",
              "      <td>605</td>\n",
              "      <td>1</td>\n",
              "      <td>0</td>\n",
              "      <td>0</td>\n",
              "      <td>...</td>\n",
              "      <td>1</td>\n",
              "      <td>-1.0</td>\n",
              "      <td>133.0</td>\n",
              "      <td>-85.0</td>\n",
              "      <td>184.0</td>\n",
              "      <td>2</td>\n",
              "      <td>3</td>\n",
              "      <td>4</td>\n",
              "      <td>1</td>\n",
              "      <td>-18.0</td>\n",
              "    </tr>\n",
              "    <tr>\n",
              "      <th>17174</th>\n",
              "      <td>114378</td>\n",
              "      <td>1450223593</td>\n",
              "      <td>1</td>\n",
              "      <td>85</td>\n",
              "      <td>2</td>\n",
              "      <td>575</td>\n",
              "      <td>499</td>\n",
              "      <td>0</td>\n",
              "      <td>0</td>\n",
              "      <td>0</td>\n",
              "      <td>...</td>\n",
              "      <td>0</td>\n",
              "      <td>20.0</td>\n",
              "      <td>133.0</td>\n",
              "      <td>-88.0</td>\n",
              "      <td>239.0</td>\n",
              "      <td>4</td>\n",
              "      <td>4</td>\n",
              "      <td>4</td>\n",
              "      <td>0</td>\n",
              "      <td>-36.0</td>\n",
              "    </tr>\n",
              "    <tr>\n",
              "      <th>17175</th>\n",
              "      <td>114393</td>\n",
              "      <td>1450244771</td>\n",
              "      <td>0</td>\n",
              "      <td>7</td>\n",
              "      <td>4</td>\n",
              "      <td>1844</td>\n",
              "      <td>1176</td>\n",
              "      <td>8</td>\n",
              "      <td>1</td>\n",
              "      <td>2</td>\n",
              "      <td>...</td>\n",
              "      <td>0</td>\n",
              "      <td>-28.0</td>\n",
              "      <td>NaN</td>\n",
              "      <td>-83.0</td>\n",
              "      <td>NaN</td>\n",
              "      <td>1</td>\n",
              "      <td>4</td>\n",
              "      <td>1</td>\n",
              "      <td>0</td>\n",
              "      <td>NaN</td>\n",
              "    </tr>\n",
              "    <tr>\n",
              "      <th>17176</th>\n",
              "      <td>114398</td>\n",
              "      <td>1450255429</td>\n",
              "      <td>1</td>\n",
              "      <td>8</td>\n",
              "      <td>4</td>\n",
              "      <td>1215</td>\n",
              "      <td>1305</td>\n",
              "      <td>13</td>\n",
              "      <td>0</td>\n",
              "      <td>0</td>\n",
              "      <td>...</td>\n",
              "      <td>2</td>\n",
              "      <td>38.0</td>\n",
              "      <td>124.0</td>\n",
              "      <td>-82.0</td>\n",
              "      <td>249.0</td>\n",
              "      <td>4</td>\n",
              "      <td>2</td>\n",
              "      <td>2</td>\n",
              "      <td>0</td>\n",
              "      <td>27.0</td>\n",
              "    </tr>\n",
              "  </tbody>\n",
              "</table>\n",
              "<p>17177 rows × 103 columns</p>\n",
              "</div>"
            ],
            "text/plain": [
              "       match_id  start_time  lobby_type  r1_hero  r1_level  r1_xp  r1_gold  \\\n",
              "0             6  1430287923           0       93         4   1103     1089   \n",
              "1             7  1430293357           1       20         2    556      570   \n",
              "2            10  1430301774           1      112         2    751      808   \n",
              "3            13  1430323933           1       27         3    708      903   \n",
              "4            16  1430331112           1       39         4   1259      661   \n",
              "...         ...         ...         ...      ...       ...    ...      ...   \n",
              "17172    114369  1450212780           7       11         5   2054     1941   \n",
              "17173    114377  1450222875           1        3         3    748      605   \n",
              "17174    114378  1450223593           1       85         2    575      499   \n",
              "17175    114393  1450244771           0        7         4   1844     1176   \n",
              "17176    114398  1450255429           1        8         4   1215     1305   \n",
              "\n",
              "       r1_lh  r1_kills  r1_deaths  ...  radiant_ward_sentry_count  \\\n",
              "0          8         0          1  ...                          0   \n",
              "1          1         0          0  ...                          2   \n",
              "2          1         0          0  ...                          1   \n",
              "3          1         1          1  ...                          2   \n",
              "4          4         0          0  ...                          0   \n",
              "...      ...       ...        ...  ...                        ...   \n",
              "17172     27         0          1  ...                          1   \n",
              "17173      1         0          0  ...                          1   \n",
              "17174      0         0          0  ...                          0   \n",
              "17175      8         1          2  ...                          0   \n",
              "17176     13         0          0  ...                          2   \n",
              "\n",
              "       radiant_first_ward_time  dire_bottle_time  dire_courier_time  \\\n",
              "0                         12.0             247.0              -86.0   \n",
              "1                        -29.0             168.0              -54.0   \n",
              "2                        -22.0              46.0              -87.0   \n",
              "3                        -49.0              30.0              -89.0   \n",
              "4                         36.0             180.0              -86.0   \n",
              "...                        ...               ...                ...   \n",
              "17172                      8.0             253.0              -87.0   \n",
              "17173                     -1.0             133.0              -85.0   \n",
              "17174                     20.0             133.0              -88.0   \n",
              "17175                    -28.0               NaN              -83.0   \n",
              "17176                     38.0             124.0              -82.0   \n",
              "\n",
              "       dire_flying_courier_time  dire_tpscroll_count  dire_boots_count  \\\n",
              "0                         272.0                    3                 4   \n",
              "1                           NaN                    3                 2   \n",
              "2                         186.0                    1                 3   \n",
              "3                         210.0                    3                 4   \n",
              "4                         180.0                    1                 3   \n",
              "...                         ...                  ...               ...   \n",
              "17172                       NaN                    4                 3   \n",
              "17173                     184.0                    2                 3   \n",
              "17174                     239.0                    4                 4   \n",
              "17175                       NaN                    1                 4   \n",
              "17176                     249.0                    4                 2   \n",
              "\n",
              "       dire_ward_observer_count  dire_ward_sentry_count  dire_first_ward_time  \n",
              "0                             2                       0                 118.0  \n",
              "1                             2                       1                  16.0  \n",
              "2                             3                       0                 -34.0  \n",
              "3                             2                       1                 -26.0  \n",
              "4                             2                       1                 -33.0  \n",
              "...                         ...                     ...                   ...  \n",
              "17172                         2                       1                 -33.0  \n",
              "17173                         4                       1                 -18.0  \n",
              "17174                         4                       0                 -36.0  \n",
              "17175                         1                       0                   NaN  \n",
              "17176                         2                       0                  27.0  \n",
              "\n",
              "[17177 rows x 103 columns]"
            ]
          },
          "execution_count": 23,
          "metadata": {},
          "output_type": "execute_result"
        }
      ],
      "source": [
        "test = pd.read_csv('dota_features_test.csv')\n",
        "test"
      ]
    },
    {
      "cell_type": "markdown",
      "metadata": {
        "id": "OjriniiCV_I1"
      },
      "source": [
        "Сохраним номера матчей:"
      ]
    },
    {
      "cell_type": "code",
      "execution_count": null,
      "metadata": {
        "id": "i0GE-Y_4V_I1"
      },
      "outputs": [],
      "source": [
        "ids = test.match_id"
      ]
    },
    {
      "cell_type": "markdown",
      "metadata": {
        "id": "J-Y5OYxSV_I1"
      },
      "source": [
        "Проведем предобработку:"
      ]
    },
    {
      "cell_type": "code",
      "execution_count": null,
      "metadata": {
        "scrolled": true,
        "id": "IyS-1G_3V_I2",
        "outputId": "8b62832a-0eae-4bf6-c3a9-25efd4841c7b"
      },
      "outputs": [
        {
          "data": {
            "text/html": [
              "<div>\n",
              "<style scoped>\n",
              "    .dataframe tbody tr th:only-of-type {\n",
              "        vertical-align: middle;\n",
              "    }\n",
              "\n",
              "    .dataframe tbody tr th {\n",
              "        vertical-align: top;\n",
              "    }\n",
              "\n",
              "    .dataframe thead th {\n",
              "        text-align: right;\n",
              "    }\n",
              "</style>\n",
              "<table border=\"1\" class=\"dataframe\">\n",
              "  <thead>\n",
              "    <tr style=\"text-align: right;\">\n",
              "      <th></th>\n",
              "      <th>r1_hero</th>\n",
              "      <th>r1_level</th>\n",
              "      <th>r1_xp</th>\n",
              "      <th>r1_gold</th>\n",
              "      <th>r1_lh</th>\n",
              "      <th>r1_kills</th>\n",
              "      <th>r1_deaths</th>\n",
              "      <th>r1_items</th>\n",
              "      <th>r2_hero</th>\n",
              "      <th>r2_level</th>\n",
              "      <th>...</th>\n",
              "      <th>radiant_ward_sentry_count</th>\n",
              "      <th>radiant_first_ward_time</th>\n",
              "      <th>dire_bottle_time</th>\n",
              "      <th>dire_courier_time</th>\n",
              "      <th>dire_flying_courier_time</th>\n",
              "      <th>dire_tpscroll_count</th>\n",
              "      <th>dire_boots_count</th>\n",
              "      <th>dire_ward_observer_count</th>\n",
              "      <th>dire_ward_sentry_count</th>\n",
              "      <th>dire_first_ward_time</th>\n",
              "    </tr>\n",
              "  </thead>\n",
              "  <tbody>\n",
              "    <tr>\n",
              "      <th>0</th>\n",
              "      <td>93</td>\n",
              "      <td>4</td>\n",
              "      <td>1103</td>\n",
              "      <td>1089</td>\n",
              "      <td>8</td>\n",
              "      <td>0</td>\n",
              "      <td>1</td>\n",
              "      <td>9</td>\n",
              "      <td>102</td>\n",
              "      <td>3</td>\n",
              "      <td>...</td>\n",
              "      <td>0</td>\n",
              "      <td>12.0</td>\n",
              "      <td>247.0</td>\n",
              "      <td>-86.0</td>\n",
              "      <td>272.0</td>\n",
              "      <td>3</td>\n",
              "      <td>4</td>\n",
              "      <td>2</td>\n",
              "      <td>0</td>\n",
              "      <td>118.0</td>\n",
              "    </tr>\n",
              "    <tr>\n",
              "      <th>1</th>\n",
              "      <td>20</td>\n",
              "      <td>2</td>\n",
              "      <td>556</td>\n",
              "      <td>570</td>\n",
              "      <td>1</td>\n",
              "      <td>0</td>\n",
              "      <td>0</td>\n",
              "      <td>9</td>\n",
              "      <td>6</td>\n",
              "      <td>4</td>\n",
              "      <td>...</td>\n",
              "      <td>2</td>\n",
              "      <td>-29.0</td>\n",
              "      <td>168.0</td>\n",
              "      <td>-54.0</td>\n",
              "      <td>NaN</td>\n",
              "      <td>3</td>\n",
              "      <td>2</td>\n",
              "      <td>2</td>\n",
              "      <td>1</td>\n",
              "      <td>16.0</td>\n",
              "    </tr>\n",
              "    <tr>\n",
              "      <th>2</th>\n",
              "      <td>112</td>\n",
              "      <td>2</td>\n",
              "      <td>751</td>\n",
              "      <td>808</td>\n",
              "      <td>1</td>\n",
              "      <td>0</td>\n",
              "      <td>0</td>\n",
              "      <td>13</td>\n",
              "      <td>26</td>\n",
              "      <td>2</td>\n",
              "      <td>...</td>\n",
              "      <td>1</td>\n",
              "      <td>-22.0</td>\n",
              "      <td>46.0</td>\n",
              "      <td>-87.0</td>\n",
              "      <td>186.0</td>\n",
              "      <td>1</td>\n",
              "      <td>3</td>\n",
              "      <td>3</td>\n",
              "      <td>0</td>\n",
              "      <td>-34.0</td>\n",
              "    </tr>\n",
              "    <tr>\n",
              "      <th>3</th>\n",
              "      <td>27</td>\n",
              "      <td>3</td>\n",
              "      <td>708</td>\n",
              "      <td>903</td>\n",
              "      <td>1</td>\n",
              "      <td>1</td>\n",
              "      <td>1</td>\n",
              "      <td>11</td>\n",
              "      <td>91</td>\n",
              "      <td>2</td>\n",
              "      <td>...</td>\n",
              "      <td>2</td>\n",
              "      <td>-49.0</td>\n",
              "      <td>30.0</td>\n",
              "      <td>-89.0</td>\n",
              "      <td>210.0</td>\n",
              "      <td>3</td>\n",
              "      <td>4</td>\n",
              "      <td>2</td>\n",
              "      <td>1</td>\n",
              "      <td>-26.0</td>\n",
              "    </tr>\n",
              "    <tr>\n",
              "      <th>4</th>\n",
              "      <td>39</td>\n",
              "      <td>4</td>\n",
              "      <td>1259</td>\n",
              "      <td>661</td>\n",
              "      <td>4</td>\n",
              "      <td>0</td>\n",
              "      <td>0</td>\n",
              "      <td>9</td>\n",
              "      <td>93</td>\n",
              "      <td>5</td>\n",
              "      <td>...</td>\n",
              "      <td>0</td>\n",
              "      <td>36.0</td>\n",
              "      <td>180.0</td>\n",
              "      <td>-86.0</td>\n",
              "      <td>180.0</td>\n",
              "      <td>1</td>\n",
              "      <td>3</td>\n",
              "      <td>2</td>\n",
              "      <td>1</td>\n",
              "      <td>-33.0</td>\n",
              "    </tr>\n",
              "    <tr>\n",
              "      <th>...</th>\n",
              "      <td>...</td>\n",
              "      <td>...</td>\n",
              "      <td>...</td>\n",
              "      <td>...</td>\n",
              "      <td>...</td>\n",
              "      <td>...</td>\n",
              "      <td>...</td>\n",
              "      <td>...</td>\n",
              "      <td>...</td>\n",
              "      <td>...</td>\n",
              "      <td>...</td>\n",
              "      <td>...</td>\n",
              "      <td>...</td>\n",
              "      <td>...</td>\n",
              "      <td>...</td>\n",
              "      <td>...</td>\n",
              "      <td>...</td>\n",
              "      <td>...</td>\n",
              "      <td>...</td>\n",
              "      <td>...</td>\n",
              "      <td>...</td>\n",
              "    </tr>\n",
              "    <tr>\n",
              "      <th>17172</th>\n",
              "      <td>11</td>\n",
              "      <td>5</td>\n",
              "      <td>2054</td>\n",
              "      <td>1941</td>\n",
              "      <td>27</td>\n",
              "      <td>0</td>\n",
              "      <td>1</td>\n",
              "      <td>8</td>\n",
              "      <td>28</td>\n",
              "      <td>4</td>\n",
              "      <td>...</td>\n",
              "      <td>1</td>\n",
              "      <td>8.0</td>\n",
              "      <td>253.0</td>\n",
              "      <td>-87.0</td>\n",
              "      <td>NaN</td>\n",
              "      <td>4</td>\n",
              "      <td>3</td>\n",
              "      <td>2</td>\n",
              "      <td>1</td>\n",
              "      <td>-33.0</td>\n",
              "    </tr>\n",
              "    <tr>\n",
              "      <th>17173</th>\n",
              "      <td>3</td>\n",
              "      <td>3</td>\n",
              "      <td>748</td>\n",
              "      <td>605</td>\n",
              "      <td>1</td>\n",
              "      <td>0</td>\n",
              "      <td>0</td>\n",
              "      <td>12</td>\n",
              "      <td>22</td>\n",
              "      <td>3</td>\n",
              "      <td>...</td>\n",
              "      <td>1</td>\n",
              "      <td>-1.0</td>\n",
              "      <td>133.0</td>\n",
              "      <td>-85.0</td>\n",
              "      <td>184.0</td>\n",
              "      <td>2</td>\n",
              "      <td>3</td>\n",
              "      <td>4</td>\n",
              "      <td>1</td>\n",
              "      <td>-18.0</td>\n",
              "    </tr>\n",
              "    <tr>\n",
              "      <th>17174</th>\n",
              "      <td>85</td>\n",
              "      <td>2</td>\n",
              "      <td>575</td>\n",
              "      <td>499</td>\n",
              "      <td>0</td>\n",
              "      <td>0</td>\n",
              "      <td>0</td>\n",
              "      <td>8</td>\n",
              "      <td>102</td>\n",
              "      <td>3</td>\n",
              "      <td>...</td>\n",
              "      <td>0</td>\n",
              "      <td>20.0</td>\n",
              "      <td>133.0</td>\n",
              "      <td>-88.0</td>\n",
              "      <td>239.0</td>\n",
              "      <td>4</td>\n",
              "      <td>4</td>\n",
              "      <td>4</td>\n",
              "      <td>0</td>\n",
              "      <td>-36.0</td>\n",
              "    </tr>\n",
              "    <tr>\n",
              "      <th>17175</th>\n",
              "      <td>7</td>\n",
              "      <td>4</td>\n",
              "      <td>1844</td>\n",
              "      <td>1176</td>\n",
              "      <td>8</td>\n",
              "      <td>1</td>\n",
              "      <td>2</td>\n",
              "      <td>8</td>\n",
              "      <td>32</td>\n",
              "      <td>3</td>\n",
              "      <td>...</td>\n",
              "      <td>0</td>\n",
              "      <td>-28.0</td>\n",
              "      <td>NaN</td>\n",
              "      <td>-83.0</td>\n",
              "      <td>NaN</td>\n",
              "      <td>1</td>\n",
              "      <td>4</td>\n",
              "      <td>1</td>\n",
              "      <td>0</td>\n",
              "      <td>NaN</td>\n",
              "    </tr>\n",
              "    <tr>\n",
              "      <th>17176</th>\n",
              "      <td>8</td>\n",
              "      <td>4</td>\n",
              "      <td>1215</td>\n",
              "      <td>1305</td>\n",
              "      <td>13</td>\n",
              "      <td>0</td>\n",
              "      <td>0</td>\n",
              "      <td>10</td>\n",
              "      <td>21</td>\n",
              "      <td>5</td>\n",
              "      <td>...</td>\n",
              "      <td>2</td>\n",
              "      <td>38.0</td>\n",
              "      <td>124.0</td>\n",
              "      <td>-82.0</td>\n",
              "      <td>249.0</td>\n",
              "      <td>4</td>\n",
              "      <td>2</td>\n",
              "      <td>2</td>\n",
              "      <td>0</td>\n",
              "      <td>27.0</td>\n",
              "    </tr>\n",
              "  </tbody>\n",
              "</table>\n",
              "<p>17177 rows × 100 columns</p>\n",
              "</div>"
            ],
            "text/plain": [
              "       r1_hero  r1_level  r1_xp  r1_gold  r1_lh  r1_kills  r1_deaths  \\\n",
              "0           93         4   1103     1089      8         0          1   \n",
              "1           20         2    556      570      1         0          0   \n",
              "2          112         2    751      808      1         0          0   \n",
              "3           27         3    708      903      1         1          1   \n",
              "4           39         4   1259      661      4         0          0   \n",
              "...        ...       ...    ...      ...    ...       ...        ...   \n",
              "17172       11         5   2054     1941     27         0          1   \n",
              "17173        3         3    748      605      1         0          0   \n",
              "17174       85         2    575      499      0         0          0   \n",
              "17175        7         4   1844     1176      8         1          2   \n",
              "17176        8         4   1215     1305     13         0          0   \n",
              "\n",
              "       r1_items  r2_hero  r2_level  ...  radiant_ward_sentry_count  \\\n",
              "0             9      102         3  ...                          0   \n",
              "1             9        6         4  ...                          2   \n",
              "2            13       26         2  ...                          1   \n",
              "3            11       91         2  ...                          2   \n",
              "4             9       93         5  ...                          0   \n",
              "...         ...      ...       ...  ...                        ...   \n",
              "17172         8       28         4  ...                          1   \n",
              "17173        12       22         3  ...                          1   \n",
              "17174         8      102         3  ...                          0   \n",
              "17175         8       32         3  ...                          0   \n",
              "17176        10       21         5  ...                          2   \n",
              "\n",
              "       radiant_first_ward_time  dire_bottle_time  dire_courier_time  \\\n",
              "0                         12.0             247.0              -86.0   \n",
              "1                        -29.0             168.0              -54.0   \n",
              "2                        -22.0              46.0              -87.0   \n",
              "3                        -49.0              30.0              -89.0   \n",
              "4                         36.0             180.0              -86.0   \n",
              "...                        ...               ...                ...   \n",
              "17172                      8.0             253.0              -87.0   \n",
              "17173                     -1.0             133.0              -85.0   \n",
              "17174                     20.0             133.0              -88.0   \n",
              "17175                    -28.0               NaN              -83.0   \n",
              "17176                     38.0             124.0              -82.0   \n",
              "\n",
              "       dire_flying_courier_time  dire_tpscroll_count  dire_boots_count  \\\n",
              "0                         272.0                    3                 4   \n",
              "1                           NaN                    3                 2   \n",
              "2                         186.0                    1                 3   \n",
              "3                         210.0                    3                 4   \n",
              "4                         180.0                    1                 3   \n",
              "...                         ...                  ...               ...   \n",
              "17172                       NaN                    4                 3   \n",
              "17173                     184.0                    2                 3   \n",
              "17174                     239.0                    4                 4   \n",
              "17175                       NaN                    1                 4   \n",
              "17176                     249.0                    4                 2   \n",
              "\n",
              "       dire_ward_observer_count  dire_ward_sentry_count  dire_first_ward_time  \n",
              "0                             2                       0                 118.0  \n",
              "1                             2                       1                  16.0  \n",
              "2                             3                       0                 -34.0  \n",
              "3                             2                       1                 -26.0  \n",
              "4                             2                       1                 -33.0  \n",
              "...                         ...                     ...                   ...  \n",
              "17172                         2                       1                 -33.0  \n",
              "17173                         4                       1                 -18.0  \n",
              "17174                         4                       0                 -36.0  \n",
              "17175                         1                       0                   NaN  \n",
              "17176                         2                       0                  27.0  \n",
              "\n",
              "[17177 rows x 100 columns]"
            ]
          },
          "execution_count": 25,
          "metadata": {},
          "output_type": "execute_result"
        }
      ],
      "source": [
        "test = test.drop(['match_id', 'start_time', 'lobby_type'], axis = 1)\n",
        "test"
      ]
    },
    {
      "cell_type": "code",
      "execution_count": null,
      "metadata": {
        "id": "-hhYkF5KV_I3"
      },
      "outputs": [],
      "source": [
        "test = test.fillna(0)"
      ]
    },
    {
      "cell_type": "code",
      "execution_count": null,
      "metadata": {
        "id": "-6exFObUV_I3"
      },
      "outputs": [],
      "source": [
        "test_num = pd.DataFrame(scaler.transform(test[features_num]), columns = features_num)"
      ]
    },
    {
      "cell_type": "code",
      "execution_count": null,
      "metadata": {
        "id": "GPlNt6YQV_I4"
      },
      "outputs": [],
      "source": [
        "test_cat = pd.DataFrame(np.zeros((test.shape[0], 108)), columns = hero_ids)\n",
        "\n",
        "for i in test.index:\n",
        "    for r in r_heroes:\n",
        "        test_cat.loc[i, test.loc[i, r]] = 1\n",
        "    for d in d_heroes:\n",
        "        test_cat.loc[i, test.loc[i, d]] = -1"
      ]
    },
    {
      "cell_type": "code",
      "execution_count": null,
      "metadata": {
        "id": "n0UvNR68V_I4"
      },
      "outputs": [],
      "source": [
        "X_test = pd.concat([test_num, test_cat], axis = 1)"
      ]
    },
    {
      "cell_type": "code",
      "execution_count": null,
      "metadata": {
        "id": "XyZWLOFJV_I4"
      },
      "outputs": [],
      "source": [
        "X_test = X_test.fillna(0)"
      ]
    },
    {
      "cell_type": "markdown",
      "metadata": {
        "id": "6fiVXujxV_I5"
      },
      "source": [
        "Обучим модель и сохраним предсказания вероятностей победы команды Radiant на основе данных тестовой выборки:"
      ]
    },
    {
      "cell_type": "code",
      "execution_count": null,
      "metadata": {
        "scrolled": true,
        "id": "o3G6CISOV_I5"
      },
      "outputs": [],
      "source": [
        "model = LogisticRegression(random_state = 1, C = 0.1, max_iter = 1000)\n",
        "model.fit(X2, y)\n",
        "pred = pd.Series(model.predict_proba(X_test)[:, 1])"
      ]
    },
    {
      "cell_type": "code",
      "execution_count": null,
      "metadata": {
        "id": "TME0Vz8MV_I5",
        "outputId": "21b59502-97e0-4cff-a23a-764318bc97b1"
      },
      "outputs": [
        {
          "data": {
            "text/html": [
              "<div>\n",
              "<style scoped>\n",
              "    .dataframe tbody tr th:only-of-type {\n",
              "        vertical-align: middle;\n",
              "    }\n",
              "\n",
              "    .dataframe tbody tr th {\n",
              "        vertical-align: top;\n",
              "    }\n",
              "\n",
              "    .dataframe thead th {\n",
              "        text-align: right;\n",
              "    }\n",
              "</style>\n",
              "<table border=\"1\" class=\"dataframe\">\n",
              "  <thead>\n",
              "    <tr style=\"text-align: right;\">\n",
              "      <th></th>\n",
              "      <th>match_id</th>\n",
              "      <th>radiant_win</th>\n",
              "    </tr>\n",
              "  </thead>\n",
              "  <tbody>\n",
              "    <tr>\n",
              "      <th>0</th>\n",
              "      <td>6</td>\n",
              "      <td>0.835394</td>\n",
              "    </tr>\n",
              "    <tr>\n",
              "      <th>1</th>\n",
              "      <td>7</td>\n",
              "      <td>0.773838</td>\n",
              "    </tr>\n",
              "    <tr>\n",
              "      <th>2</th>\n",
              "      <td>10</td>\n",
              "      <td>0.202266</td>\n",
              "    </tr>\n",
              "    <tr>\n",
              "      <th>3</th>\n",
              "      <td>13</td>\n",
              "      <td>0.870120</td>\n",
              "    </tr>\n",
              "    <tr>\n",
              "      <th>4</th>\n",
              "      <td>16</td>\n",
              "      <td>0.261925</td>\n",
              "    </tr>\n",
              "    <tr>\n",
              "      <th>...</th>\n",
              "      <td>...</td>\n",
              "      <td>...</td>\n",
              "    </tr>\n",
              "    <tr>\n",
              "      <th>17172</th>\n",
              "      <td>114369</td>\n",
              "      <td>0.712144</td>\n",
              "    </tr>\n",
              "    <tr>\n",
              "      <th>17173</th>\n",
              "      <td>114377</td>\n",
              "      <td>0.625001</td>\n",
              "    </tr>\n",
              "    <tr>\n",
              "      <th>17174</th>\n",
              "      <td>114378</td>\n",
              "      <td>0.228760</td>\n",
              "    </tr>\n",
              "    <tr>\n",
              "      <th>17175</th>\n",
              "      <td>114393</td>\n",
              "      <td>0.615640</td>\n",
              "    </tr>\n",
              "    <tr>\n",
              "      <th>17176</th>\n",
              "      <td>114398</td>\n",
              "      <td>0.418207</td>\n",
              "    </tr>\n",
              "  </tbody>\n",
              "</table>\n",
              "<p>17177 rows × 2 columns</p>\n",
              "</div>"
            ],
            "text/plain": [
              "       match_id  radiant_win\n",
              "0             6     0.835394\n",
              "1             7     0.773838\n",
              "2            10     0.202266\n",
              "3            13     0.870120\n",
              "4            16     0.261925\n",
              "...         ...          ...\n",
              "17172    114369     0.712144\n",
              "17173    114377     0.625001\n",
              "17174    114378     0.228760\n",
              "17175    114393     0.615640\n",
              "17176    114398     0.418207\n",
              "\n",
              "[17177 rows x 2 columns]"
            ]
          },
          "execution_count": 32,
          "metadata": {},
          "output_type": "execute_result"
        }
      ],
      "source": [
        "final = pd.concat([ids, pred], axis = 1)\n",
        "final.columns = ['match_id', 'radiant_win']\n",
        "final"
      ]
    },
    {
      "cell_type": "code",
      "execution_count": null,
      "metadata": {
        "id": "tuemSQYXV_I5",
        "outputId": "75865351-3ca5-4d9d-8c62-9fd90bc013ab"
      },
      "outputs": [
        {
          "name": "stdout",
          "output_type": "stream",
          "text": [
            "Минимальное значение прогноза: 0.0083\n",
            "Максимальное значение прогноза: 0.9965\n"
          ]
        }
      ],
      "source": [
        "print('Минимальное значение прогноза:', round(final.radiant_win.min(), 4))\n",
        "print('Максимальное значение прогноза:', round(final.radiant_win.max(), 4))"
      ]
    },
    {
      "cell_type": "code",
      "execution_count": null,
      "metadata": {
        "id": "vAPatFt8V_I6"
      },
      "outputs": [],
      "source": [
        "#final.to_csv('dota_final.csv')"
      ]
    },
    {
      "cell_type": "markdown",
      "metadata": {
        "id": "CTJXz27qV_I6"
      },
      "source": [
        "К сожалению, узнать результат на тестовой выборке не представляется возможным, поскольку отправить решение на Kaggle невозможно. :("
      ]
    },
    {
      "cell_type": "markdown",
      "metadata": {
        "id": "6ehbpKnLV_I6"
      },
      "source": [
        "## Выводы"
      ]
    },
    {
      "cell_type": "markdown",
      "metadata": {
        "id": "bJVoeFrTV_I6"
      },
      "source": [
        "- Модель градиентного бустинга обучается слишком долго на наших данных. Качество модели улучшается с увеличением количества деревьев, но чем больше деревьев - тем больше времени занимает кросс-валидация и обучение модели. Качество модели с 50 деревьями - около 0.7082, процесс занимает более 16 минут.\n",
        "\n",
        "\n",
        "- Логистическая регрессия обучается в разы быстрее. Модель, обученная на начальном наборе признаков, показывает результат, сопоставимый с результатом модели градиентного бустинга. Лучшее качество на кросс-валидации - 0.7163 (при параметре регуляризации 0.01). Процесс занимает около 30 секунд.\n",
        "\n",
        "\n",
        "- При исключении закодированных категориальных признаков качество модели почти не изменилось. Мы передаем модели числа, каждым из которых закодирован определенный герой игры. Но алгоритм воспринимает эти числа как градацию одного признака. В результате алгоритм не обнаружил закономерности в этих данных и практически не учитывал их при обучении модели.\n",
        "\n",
        "\n",
        "- С использованием новых признаков (108 признаков - по количеству героев в игре) качество модели значительно улучшилось. Теперь алгоритм смог обнаружить закономерность в данных: некоторые герои выигрывают чаще, чем другие. Новые признаки были использованы при обучении модели и улучшили ее качество. Средний AUC-ROC: 0.7518, обучение модели длится менее 30 секунд."
      ]
    },
    {
      "cell_type": "code",
      "execution_count": null,
      "metadata": {
        "id": "k4axFfc6V_I7"
      },
      "outputs": [],
      "source": [
        ""
      ]
    }
  ],
  "metadata": {
    "kernelspec": {
      "display_name": "Python 3",
      "language": "python",
      "name": "python3"
    },
    "language_info": {
      "codemirror_mode": {
        "name": "ipython",
        "version": 3
      },
      "file_extension": ".py",
      "mimetype": "text/x-python",
      "name": "python",
      "nbconvert_exporter": "python",
      "pygments_lexer": "ipython3",
      "version": "3.7.6"
    },
    "colab": {
      "name": "DOTA.ipynb",
      "provenance": [],
      "collapsed_sections": [],
      "toc_visible": true
    }
  },
  "nbformat": 4,
  "nbformat_minor": 0
}